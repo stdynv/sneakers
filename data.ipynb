{
 "cells": [
  {
   "cell_type": "code",
   "execution_count": 2,
   "metadata": {
    "collapsed": true
   },
   "outputs": [],
   "source": [
    "import pandas as pd"
   ]
  },
  {
   "cell_type": "code",
   "execution_count": null,
   "outputs": [],
   "source": [],
   "metadata": {
    "collapsed": false,
    "pycharm": {
     "name": "#%%\n"
    }
   }
  },
  {
   "cell_type": "code",
   "execution_count": 3,
   "outputs": [],
   "source": [
    "nike_homme = pd.read_csv('nike_hommes.csv')\n",
    "nike_femme = pd.read_csv('nike_femmes.csv')\n",
    "nike_women_kids = pd.read_csv('nike_WomenKids.csv')\n",
    "nike_man_kids = pd.read_csv('nike_MansKid.csv')"
   ],
   "metadata": {
    "collapsed": false,
    "pycharm": {
     "name": "#%%\n"
    }
   }
  },
  {
   "cell_type": "code",
   "execution_count": 4,
   "outputs": [],
   "source": [
    "nike_data =  pd.concat([nike_homme,nike_femme,nike_man_kids,nike_women_kids ])\n",
    "#export to csv\n",
    "nike_data.to_csv( \"nike.csv\", index=False, encoding='utf-8-sig')"
   ],
   "metadata": {
    "collapsed": false,
    "pycharm": {
     "name": "#%%\n"
    }
   }
  },
  {
   "cell_type": "code",
   "execution_count": 7,
   "outputs": [
    {
     "data": {
      "text/plain": "     Unnamed: 0                             product Name  \\\n238         238          Nike Jr. Phantom GT2 Academy MG   \n238         238                         Nike Precision 6   \n442         442                         Nike SB Force 58   \n242         242                         Nike Waffle 1 SE   \n35           35  Nike Zoom Mercurial Vapor 15 Academy MG   \n..          ...                                      ...   \n269         269      Nike Court Borough Low 2 Lil Fruits   \n270         270                      Nike Cortez Be True   \n166         166                   Nike Force 1 Toggle SE   \n185         185          Nike Air Force 1 Crater Flyknit   \n274         274                        Nike Defy All Day   \n\n                                   Product Description     Price  \\\n238  Chaussure de football à crampons multi-surface...   59,99 €   \n238                            Chaussure de basketball   69,99 €   \n442                            Chaussure de skateboard   74,99 €   \n242                               Chaussure pour Femme  109,99 €   \n35     Chaussure de football multi-surfaces à crampons   84,99 €   \n..                                                 ...       ...   \n269                Chaussure pour Bébé et Petit enfant   39,99 €   \n270                                          Chaussure   89,99 €   \n166                Chaussure pour Bébé et Petit enfant   69,99 €   \n185                     Chaussure pour Enfant plus âgé   99,99 €   \n274     Chaussure de training pour Homme (extra-large)   59,99 €   \n\n    Colors Available         Sex  \n238       3 couleurs  Women Kids  \n238        1 couleur      Femmes  \n442       3 couleurs      Hommes  \n242        1 couleur      Femmes  \n35        2 couleurs      Hommes  \n..               ...         ...  \n269        1 couleur  Women Kids  \n270        1 couleur      Hommes  \n166        1 couleur  Women Kids  \n185       2 couleurs    Kids Man  \n274       6 couleurs      Hommes  \n\n[1927 rows x 6 columns]",
      "text/html": "<div>\n<style scoped>\n    .dataframe tbody tr th:only-of-type {\n        vertical-align: middle;\n    }\n\n    .dataframe tbody tr th {\n        vertical-align: top;\n    }\n\n    .dataframe thead th {\n        text-align: right;\n    }\n</style>\n<table border=\"1\" class=\"dataframe\">\n  <thead>\n    <tr style=\"text-align: right;\">\n      <th></th>\n      <th>Unnamed: 0</th>\n      <th>product Name</th>\n      <th>Product Description</th>\n      <th>Price</th>\n      <th>Colors Available</th>\n      <th>Sex</th>\n    </tr>\n  </thead>\n  <tbody>\n    <tr>\n      <th>238</th>\n      <td>238</td>\n      <td>Nike Jr. Phantom GT2 Academy MG</td>\n      <td>Chaussure de football à crampons multi-surface...</td>\n      <td>59,99 €</td>\n      <td>3 couleurs</td>\n      <td>Women Kids</td>\n    </tr>\n    <tr>\n      <th>238</th>\n      <td>238</td>\n      <td>Nike Precision 6</td>\n      <td>Chaussure de basketball</td>\n      <td>69,99 €</td>\n      <td>1 couleur</td>\n      <td>Femmes</td>\n    </tr>\n    <tr>\n      <th>442</th>\n      <td>442</td>\n      <td>Nike SB Force 58</td>\n      <td>Chaussure de skateboard</td>\n      <td>74,99 €</td>\n      <td>3 couleurs</td>\n      <td>Hommes</td>\n    </tr>\n    <tr>\n      <th>242</th>\n      <td>242</td>\n      <td>Nike Waffle 1 SE</td>\n      <td>Chaussure pour Femme</td>\n      <td>109,99 €</td>\n      <td>1 couleur</td>\n      <td>Femmes</td>\n    </tr>\n    <tr>\n      <th>35</th>\n      <td>35</td>\n      <td>Nike Zoom Mercurial Vapor 15 Academy MG</td>\n      <td>Chaussure de football multi-surfaces à crampons</td>\n      <td>84,99 €</td>\n      <td>2 couleurs</td>\n      <td>Hommes</td>\n    </tr>\n    <tr>\n      <th>...</th>\n      <td>...</td>\n      <td>...</td>\n      <td>...</td>\n      <td>...</td>\n      <td>...</td>\n      <td>...</td>\n    </tr>\n    <tr>\n      <th>269</th>\n      <td>269</td>\n      <td>Nike Court Borough Low 2 Lil Fruits</td>\n      <td>Chaussure pour Bébé et Petit enfant</td>\n      <td>39,99 €</td>\n      <td>1 couleur</td>\n      <td>Women Kids</td>\n    </tr>\n    <tr>\n      <th>270</th>\n      <td>270</td>\n      <td>Nike Cortez Be True</td>\n      <td>Chaussure</td>\n      <td>89,99 €</td>\n      <td>1 couleur</td>\n      <td>Hommes</td>\n    </tr>\n    <tr>\n      <th>166</th>\n      <td>166</td>\n      <td>Nike Force 1 Toggle SE</td>\n      <td>Chaussure pour Bébé et Petit enfant</td>\n      <td>69,99 €</td>\n      <td>1 couleur</td>\n      <td>Women Kids</td>\n    </tr>\n    <tr>\n      <th>185</th>\n      <td>185</td>\n      <td>Nike Air Force 1 Crater Flyknit</td>\n      <td>Chaussure pour Enfant plus âgé</td>\n      <td>99,99 €</td>\n      <td>2 couleurs</td>\n      <td>Kids Man</td>\n    </tr>\n    <tr>\n      <th>274</th>\n      <td>274</td>\n      <td>Nike Defy All Day</td>\n      <td>Chaussure de training pour Homme (extra-large)</td>\n      <td>59,99 €</td>\n      <td>6 couleurs</td>\n      <td>Hommes</td>\n    </tr>\n  </tbody>\n</table>\n<p>1927 rows × 6 columns</p>\n</div>"
     },
     "execution_count": 7,
     "metadata": {},
     "output_type": "execute_result"
    }
   ],
   "source": [
    "nike_data.sample(frac=1)"
   ],
   "metadata": {
    "collapsed": false,
    "pycharm": {
     "name": "#%%\n"
    }
   }
  }
 ],
 "metadata": {
  "kernelspec": {
   "display_name": "Python 3",
   "language": "python",
   "name": "python3"
  },
  "language_info": {
   "codemirror_mode": {
    "name": "ipython",
    "version": 2
   },
   "file_extension": ".py",
   "mimetype": "text/x-python",
   "name": "python",
   "nbconvert_exporter": "python",
   "pygments_lexer": "ipython2",
   "version": "2.7.6"
  }
 },
 "nbformat": 4,
 "nbformat_minor": 0
}